{
 "cells": [
  {
   "cell_type": "code",
   "execution_count": 4,
   "metadata": {},
   "outputs": [
    {
     "data": {
      "text/plain": [
       "array([[56, 'housemaid', 'married', ..., 4.857, 5191.0, 'no'],\n",
       "       [57, 'services', 'married', ..., 4.857, 5191.0, 'no'],\n",
       "       [37, 'services', 'married', ..., 4.857, 5191.0, 'no'],\n",
       "       ..., \n",
       "       [56, 'retired', 'married', ..., 1.028, 4963.6, 'no'],\n",
       "       [44, 'technician', 'married', ..., 1.028, 4963.6, 'yes'],\n",
       "       [74, 'retired', 'married', ..., 1.028, 4963.6, 'no']], dtype=object)"
      ]
     },
     "execution_count": 4,
     "metadata": {},
     "output_type": "execute_result"
    }
   ],
   "source": [
    "import pandas as pd\n",
    "import numpy as np\n",
    "from sklearn import preprocessing\n",
    "from sklearn import linear_model\n",
    "from sklearn.model_selection import train_test_split,GridSearchCV\n",
    "from sklearn import tree,svm,metrics\n",
    "from sklearn.neural_network import MLPClassifier\n",
    "from sklearn.model_selection import cross_val_score\n",
    "from mlxtend.evaluate import lift_score\n",
    "\n",
    "#df is a Pandas Data Frame.\n",
    "df = pd.read_csv(\"/media/siddharth/New Volume/Github/SF ML/1/bank-additional/bank-additional-full.csv\",sep=\";\")\n",
    "#Tuple representation of the dimensions of df.\n",
    "df.shape\n",
    "#Gives the name of the columns alone\n",
    "df.columns\n",
    "#Getting a feel for the data.\n",
    "df.describe(include=\"all\")\n",
    "#Mentions the x-axis and y-axis information.\n",
    "df.axes\n",
    "#Returns the datatype of each atribute column.\n",
    "df.dtypes\n",
    "#Returns the numpy representation of the NDFrame.\n",
    "df.values\n"
   ]
  },
  {
   "cell_type": "code",
   "execution_count": 5,
   "metadata": {
    "collapsed": true
   },
   "outputs": [],
   "source": [
    "        \n",
    "#PERFORMING FEATURE SELECTION.\n",
    "from sklearn.model_selection import cross_val_score\n",
    "from mlxtend.evaluate import lift_score\n",
    "\n",
    "#Selecting only those attributes which are in the final list of selected attributes.\n",
    "vector = [\"housing\",\"month\",\"duration\",\"campaign\",\"emp.var.rate\",\"cons.price.idx\",\"cons.conf.idx\",\"euribor3m\"]\n",
    "dfcopy2 = df[vector]\n",
    "\n",
    "#Performing one-hot encoding on the categorical attributes.\n",
    "encoder1 = pd.get_dummies(dfcopy2['housing'])\n",
    "del encoder1['unknown']\n",
    "encoder1.columns = ['housing_no','housing_yes']\n",
    "\n",
    "encoder2 = pd.get_dummies(dfcopy2['month'])\n",
    "\n",
    "del dfcopy2['housing']\n",
    "del dfcopy2['month']\n"
   ]
  },
  {
   "cell_type": "code",
   "execution_count": 6,
   "metadata": {
    "collapsed": true
   },
   "outputs": [],
   "source": [
    "\n",
    "#Concatenating all the data frames.\n",
    "dfcopy2 = pd.concat([dfcopy2,encoder1],axis=1,join='inner')\n",
    "dfcopy2 = pd.concat([dfcopy2,encoder2],axis=1,join='inner')\n",
    "\n",
    "df.replace(('yes','no'),(1,0),inplace=True)\n",
    "\n",
    "#Splitting the target column into a vector.\n",
    "Y = df['y']\n",
    "del df['y']\n",
    "\n",
    "Ycopy=[]\n",
    "for i in range(0,len(Y)):\n",
    "    if(Y[i]==1):\n",
    "        Ycopy.append(1)\n",
    "    else:\n",
    "        Ycopy.append(0)\n"
   ]
  },
  {
   "cell_type": "code",
   "execution_count": 50,
   "metadata": {},
   "outputs": [],
   "source": [
    "scaler = preprocessing.StandardScaler().fit(dfcopy2[[\"duration\",\"campaign\",\"emp.var.rate\",\"cons.price.idx\",\"cons.conf.idx\",\"euribor3m\"]])\n",
    "dfcopy3 = scaler.transform(dfcopy2[[\"duration\",\"campaign\",\"emp.var.rate\",\"cons.price.idx\",\"cons.conf.idx\",\"euribor3m\"]])\n",
    "dfcopy3 = pd.DataFrame(dfcopy3)\n",
    "dfcopy3 = pd.concat([dfcopy3,dfcopy2],axis=1)\n",
    "\n",
    "\n",
    "del dfcopy3[\"duration\"]\n",
    "del dfcopy3[\"campaign\"]\n",
    "del dfcopy3[\"emp.var.rate\"]\n",
    "del dfcopy3[\"cons.price.idx\"]\n",
    "del dfcopy3[\"cons.conf.idx\"]\n",
    "del dfcopy3[\"euribor3m\"]"
   ]
  },
  {
   "cell_type": "code",
   "execution_count": 64,
   "metadata": {},
   "outputs": [],
   "source": [
    "\n",
    "#Randomly splits the dataset into train and test sets.\n",
    "X_train,X_test,y_train,y_test = train_test_split(dfcopy3.values,Y.values,test_size=0.33)\n"
   ]
  },
  {
   "cell_type": "code",
   "execution_count": 44,
   "metadata": {},
   "outputs": [
    {
     "data": {
      "text/plain": [
       "Index([u'duration', u'campaign', u'emp.var.rate', u'cons.price.idx',\n",
       "       u'cons.conf.idx', u'euribor3m', u'housing_no', u'housing_yes', u'apr',\n",
       "       u'aug', u'dec', u'jul', u'jun', u'mar', u'may', u'nov', u'oct', u'sep'],\n",
       "      dtype='object')"
      ]
     },
     "execution_count": 44,
     "metadata": {},
     "output_type": "execute_result"
    }
   ],
   "source": [
    "dfcopy2.columns"
   ]
  },
  {
   "cell_type": "code",
   "execution_count": 53,
   "metadata": {},
   "outputs": [
    {
     "data": {
      "text/plain": [
       "(41188, 18)"
      ]
     },
     "execution_count": 53,
     "metadata": {},
     "output_type": "execute_result"
    }
   ],
   "source": [
    "dfcopy3.shape"
   ]
  },
  {
   "cell_type": "code",
   "execution_count": 51,
   "metadata": {},
   "outputs": [
    {
     "data": {
      "text/plain": [
       "Index([             0,              1,              2,              3,\n",
       "                    4,              5,  u'housing_no', u'housing_yes',\n",
       "               u'apr',         u'aug',         u'dec',         u'jul',\n",
       "               u'jun',         u'mar',         u'may',         u'nov',\n",
       "               u'oct',         u'sep'],\n",
       "      dtype='object')"
      ]
     },
     "execution_count": 51,
     "metadata": {},
     "output_type": "execute_result"
    }
   ],
   "source": [
    "dfcopy3.columns"
   ]
  },
  {
   "cell_type": "code",
   "execution_count": 68,
   "metadata": {},
   "outputs": [
    {
     "data": {
      "text/html": [
       "<div>\n",
       "<style>\n",
       "    .dataframe thead tr:only-child th {\n",
       "        text-align: right;\n",
       "    }\n",
       "\n",
       "    .dataframe thead th {\n",
       "        text-align: left;\n",
       "    }\n",
       "\n",
       "    .dataframe tbody tr th {\n",
       "        vertical-align: top;\n",
       "    }\n",
       "</style>\n",
       "<table border=\"1\" class=\"dataframe\">\n",
       "  <thead>\n",
       "    <tr style=\"text-align: right;\">\n",
       "      <th></th>\n",
       "      <th>0</th>\n",
       "      <th>1</th>\n",
       "      <th>2</th>\n",
       "      <th>3</th>\n",
       "      <th>4</th>\n",
       "      <th>5</th>\n",
       "      <th>housing_no</th>\n",
       "      <th>housing_yes</th>\n",
       "      <th>apr</th>\n",
       "      <th>aug</th>\n",
       "      <th>dec</th>\n",
       "      <th>jul</th>\n",
       "      <th>jun</th>\n",
       "      <th>mar</th>\n",
       "      <th>may</th>\n",
       "      <th>nov</th>\n",
       "      <th>oct</th>\n",
       "      <th>sep</th>\n",
       "    </tr>\n",
       "  </thead>\n",
       "  <tbody>\n",
       "    <tr>\n",
       "      <th>0</th>\n",
       "      <td>0.010471</td>\n",
       "      <td>-0.565922</td>\n",
       "      <td>0.648092</td>\n",
       "      <td>0.722722</td>\n",
       "      <td>0.886447</td>\n",
       "      <td>0.71246</td>\n",
       "      <td>1</td>\n",
       "      <td>0</td>\n",
       "      <td>0</td>\n",
       "      <td>0</td>\n",
       "      <td>0</td>\n",
       "      <td>0</td>\n",
       "      <td>0</td>\n",
       "      <td>0</td>\n",
       "      <td>1</td>\n",
       "      <td>0</td>\n",
       "      <td>0</td>\n",
       "      <td>0</td>\n",
       "    </tr>\n",
       "    <tr>\n",
       "      <th>1</th>\n",
       "      <td>-0.421501</td>\n",
       "      <td>-0.565922</td>\n",
       "      <td>0.648092</td>\n",
       "      <td>0.722722</td>\n",
       "      <td>0.886447</td>\n",
       "      <td>0.71246</td>\n",
       "      <td>1</td>\n",
       "      <td>0</td>\n",
       "      <td>0</td>\n",
       "      <td>0</td>\n",
       "      <td>0</td>\n",
       "      <td>0</td>\n",
       "      <td>0</td>\n",
       "      <td>0</td>\n",
       "      <td>1</td>\n",
       "      <td>0</td>\n",
       "      <td>0</td>\n",
       "      <td>0</td>\n",
       "    </tr>\n",
       "    <tr>\n",
       "      <th>2</th>\n",
       "      <td>-0.124520</td>\n",
       "      <td>-0.565922</td>\n",
       "      <td>0.648092</td>\n",
       "      <td>0.722722</td>\n",
       "      <td>0.886447</td>\n",
       "      <td>0.71246</td>\n",
       "      <td>0</td>\n",
       "      <td>1</td>\n",
       "      <td>0</td>\n",
       "      <td>0</td>\n",
       "      <td>0</td>\n",
       "      <td>0</td>\n",
       "      <td>0</td>\n",
       "      <td>0</td>\n",
       "      <td>1</td>\n",
       "      <td>0</td>\n",
       "      <td>0</td>\n",
       "      <td>0</td>\n",
       "    </tr>\n",
       "    <tr>\n",
       "      <th>3</th>\n",
       "      <td>-0.413787</td>\n",
       "      <td>-0.565922</td>\n",
       "      <td>0.648092</td>\n",
       "      <td>0.722722</td>\n",
       "      <td>0.886447</td>\n",
       "      <td>0.71246</td>\n",
       "      <td>1</td>\n",
       "      <td>0</td>\n",
       "      <td>0</td>\n",
       "      <td>0</td>\n",
       "      <td>0</td>\n",
       "      <td>0</td>\n",
       "      <td>0</td>\n",
       "      <td>0</td>\n",
       "      <td>1</td>\n",
       "      <td>0</td>\n",
       "      <td>0</td>\n",
       "      <td>0</td>\n",
       "    </tr>\n",
       "  </tbody>\n",
       "</table>\n",
       "</div>"
      ],
      "text/plain": [
       "          0         1         2         3         4        5  housing_no  \\\n",
       "0  0.010471 -0.565922  0.648092  0.722722  0.886447  0.71246           1   \n",
       "1 -0.421501 -0.565922  0.648092  0.722722  0.886447  0.71246           1   \n",
       "2 -0.124520 -0.565922  0.648092  0.722722  0.886447  0.71246           0   \n",
       "3 -0.413787 -0.565922  0.648092  0.722722  0.886447  0.71246           1   \n",
       "\n",
       "   housing_yes  apr  aug  dec  jul  jun  mar  may  nov  oct  sep  \n",
       "0            0    0    0    0    0    0    0    1    0    0    0  \n",
       "1            0    0    0    0    0    0    0    1    0    0    0  \n",
       "2            1    0    0    0    0    0    0    1    0    0    0  \n",
       "3            0    0    0    0    0    0    0    1    0    0    0  "
      ]
     },
     "execution_count": 68,
     "metadata": {},
     "output_type": "execute_result"
    }
   ],
   "source": [
    "dfcopy3.head(4)"
   ]
  },
  {
   "cell_type": "code",
   "execution_count": 67,
   "metadata": {},
   "outputs": [
    {
     "data": {
      "text/plain": [
       "array([[ 0.06061102, -0.56592197, -0.11578127, -0.649003  , -0.32354233,\n",
       "         0.30656199,  1.        ,  0.        ,  0.        ,  0.        ,\n",
       "         0.        ,  0.        ,  0.        ,  0.        ,  0.        ,\n",
       "         1.        ,  0.        ,  0.        ],\n",
       "       [-0.20165765, -0.56592197, -1.13427931,  1.10452515,  0.04377573,\n",
       "        -1.573022  ,  0.        ,  1.        ,  0.        ,  0.        ,\n",
       "         0.        ,  1.        ,  0.        ,  0.        ,  0.        ,\n",
       "         0.        ,  0.        ,  0.        ],\n",
       "       [-0.38293159, -0.56592197, -0.75234254,  2.05816805, -2.22495344,\n",
       "        -1.48250216,  0.        ,  1.        ,  0.        ,  0.        ,\n",
       "         0.        ,  0.        ,  0.        ,  0.        ,  0.        ,\n",
       "         1.        ,  0.        ,  0.        ],\n",
       "       [-0.54877796, -0.56592197,  0.83906065,  0.59142381, -0.47479094,\n",
       "         0.77299863,  1.        ,  0.        ,  0.        ,  0.        ,\n",
       "         0.        ,  1.        ,  0.        ,  0.        ,  0.        ,\n",
       "         0.        ,  0.        ,  0.        ],\n",
       "       [ 1.27938899,  0.87813182, -1.19793544, -1.17938048, -1.23103399,\n",
       "        -1.35796531,  0.        ,  1.        ,  0.        ,  0.        ,\n",
       "         0.        ,  0.        ,  0.        ,  0.        ,  1.        ,\n",
       "         0.        ,  0.        ,  0.        ]])"
      ]
     },
     "execution_count": 67,
     "metadata": {},
     "output_type": "execute_result"
    }
   ],
   "source": [
    "X_train[:5]"
   ]
  },
  {
   "cell_type": "code",
   "execution_count": 65,
   "metadata": {},
   "outputs": [
    {
     "data": {
      "text/plain": [
       "(27595, 18)"
      ]
     },
     "execution_count": 65,
     "metadata": {},
     "output_type": "execute_result"
    }
   ],
   "source": [
    "X_train.shape"
   ]
  },
  {
   "cell_type": "code",
   "execution_count": 66,
   "metadata": {},
   "outputs": [
    {
     "data": {
      "text/plain": [
       "numpy.ndarray"
      ]
     },
     "execution_count": 66,
     "metadata": {},
     "output_type": "execute_result"
    }
   ],
   "source": [
    "type(X_train)"
   ]
  },
  {
   "cell_type": "code",
   "execution_count": 70,
   "metadata": {},
   "outputs": [
    {
     "data": {
      "text/plain": [
       "0.90362686676966086"
      ]
     },
     "execution_count": 70,
     "metadata": {},
     "output_type": "execute_result"
    }
   ],
   "source": [
    "\n",
    "#LogisticRegression\n",
    "logreg = linear_model.LogisticRegression()\n",
    "logreg.fit(X_train,y_train)\n",
    "logreg.score(X_test,y_test)\n"
   ]
  },
  {
   "cell_type": "code",
   "execution_count": 71,
   "metadata": {},
   "outputs": [
    {
     "data": {
      "text/plain": [
       "0.90318546310601044"
      ]
     },
     "execution_count": 71,
     "metadata": {},
     "output_type": "execute_result"
    }
   ],
   "source": [
    "\n",
    "#LogisticRegression\n",
    "logreg = linear_model.LogisticRegression(penalty=\"l1\")\n",
    "logreg.fit(X_train,y_train)\n",
    "logreg.score(X_test,y_test)\n"
   ]
  },
  {
   "cell_type": "code",
   "execution_count": 74,
   "metadata": {},
   "outputs": [
    {
     "data": {
      "text/plain": [
       "0.90362686676966086"
      ]
     },
     "execution_count": 74,
     "metadata": {},
     "output_type": "execute_result"
    }
   ],
   "source": [
    "\n",
    "#LogisticRegression\n",
    "logreg = linear_model.LogisticRegression(dual=False)\n",
    "logreg.fit(X_train,y_train)\n",
    "logreg.score(X_test,y_test)\n"
   ]
  },
  {
   "cell_type": "code",
   "execution_count": 79,
   "metadata": {},
   "outputs": [
    {
     "name": "stdout",
     "output_type": "stream",
     "text": [
      "c =  1.0  ;  Score :  0.90362686677\n",
      "c =  1.5  ;  Score :  0.903259030383\n",
      "c =  2.0  ;  Score :  0.903332597661\n",
      "c =  2.5  ;  Score :  0.903259030383\n",
      "c =  3.0  ;  Score :  0.903259030383\n",
      "c =  3.5  ;  Score :  0.903185463106\n",
      "c =  4.0  ;  Score :  0.903111895829\n",
      "c =  4.5  ;  Score :  0.903111895829\n",
      "c =  5.0  ;  Score :  0.903038328551\n",
      "c =  5.5  ;  Score :  0.903038328551\n",
      "c =  6.0  ;  Score :  0.903038328551\n",
      "c =  6.5  ;  Score :  0.902964761274\n",
      "c =  7.0  ;  Score :  0.902964761274\n",
      "c =  7.5  ;  Score :  0.902964761274\n",
      "c =  8.0  ;  Score :  0.902964761274\n",
      "c =  8.5  ;  Score :  0.902964761274\n",
      "c =  9.0  ;  Score :  0.902964761274\n",
      "c =  9.5  ;  Score :  0.902964761274\n",
      "c =  10.0  ;  Score :  0.902964761274\n",
      "Max. C =  1.0 Max. Score :  0.90362686677\n"
     ]
    }
   ],
   "source": [
    "\n",
    "#LogisticRegression\n",
    "c = 1.0\n",
    "max_score= 0.0\n",
    "max_c = 0.0\n",
    "score = 0.0\n",
    "while c<= 10:\n",
    "    logreg = linear_model.LogisticRegression(C=c)\n",
    "    logreg.fit(X_train,y_train)\n",
    "    score = logreg.score(X_test,y_test)\n",
    "    print \"c = \",c,\" ; \",\"Score : \",score\n",
    "    if (score > max_score):\n",
    "        max_score = score\n",
    "        max_c = c\n",
    "    c += 0.5    \n",
    "print \"Max. C = \",max_c,\"Max. Score : \",max_score"
   ]
  },
  {
   "cell_type": "code",
   "execution_count": 82,
   "metadata": {},
   "outputs": [
    {
     "data": {
      "text/plain": [
       "0.90399470315603625"
      ]
     },
     "execution_count": 82,
     "metadata": {},
     "output_type": "execute_result"
    }
   ],
   "source": [
    "\n",
    "#LogisticRegression\n",
    "#fit_intercept : whether any constant needs to be added to the decision function ?\n",
    "logreg = linear_model.LogisticRegression(fit_intercept=False)\n",
    "logreg.fit(X_train,y_train)\n",
    "logreg.score(X_test,y_test)\n"
   ]
  },
  {
   "cell_type": "code",
   "execution_count": 84,
   "metadata": {},
   "outputs": [
    {
     "data": {
      "text/plain": [
       "0.90399470315603625"
      ]
     },
     "execution_count": 84,
     "metadata": {},
     "output_type": "execute_result"
    }
   ],
   "source": [
    "\n",
    "#LogisticRegression\n",
    "#fit_intercept : whether any constant needs to be added to the decision function ?\n",
    "logreg = linear_model.LogisticRegression(fit_intercept=False,max_iter=500)\n",
    "logreg.fit(X_train,y_train)\n",
    "logreg.score(X_test,y_test)\n"
   ]
  },
  {
   "cell_type": "code",
   "execution_count": 86,
   "metadata": {},
   "outputs": [
    {
     "data": {
      "text/plain": [
       "0.90399470315603625"
      ]
     },
     "execution_count": 86,
     "metadata": {},
     "output_type": "execute_result"
    }
   ],
   "source": [
    "\n",
    "#LogisticRegression\n",
    "#fit_intercept : whether any constant needs to be added to the decision function ?\n",
    "logreg = linear_model.LogisticRegression(fit_intercept=False,max_iter=500,random_state=10)\n",
    "logreg.fit(X_train,y_train)\n",
    "logreg.score(X_test,y_test)\n"
   ]
  },
  {
   "cell_type": "code",
   "execution_count": 88,
   "metadata": {},
   "outputs": [
    {
     "data": {
      "text/plain": [
       "0.47611401043757523"
      ]
     },
     "execution_count": 88,
     "metadata": {},
     "output_type": "execute_result"
    }
   ],
   "source": [
    "#F1 Scores.\n",
    "from sklearn.metrics import f1_score\n",
    "\n",
    "y_pred = logreg.predict(X_test)\n",
    "f1_score(y_test,y_pred)"
   ]
  },
  {
   "cell_type": "code",
   "execution_count": 89,
   "metadata": {},
   "outputs": [
    {
     "data": {
      "text/plain": [
       "0.93230375352400296"
      ]
     },
     "execution_count": 89,
     "metadata": {},
     "output_type": "execute_result"
    }
   ],
   "source": [
    "#ROC Estimates for Decision Tree Classifier.\n",
    "(np.mean(cross_val_score(linear_model.LogisticRegression(),X_train,y_train,scoring='roc_auc',cv=5)))"
   ]
  },
  {
   "cell_type": "code",
   "execution_count": null,
   "metadata": {
    "collapsed": true
   },
   "outputs": [],
   "source": []
  }
 ],
 "metadata": {
  "kernelspec": {
   "display_name": "Python 2",
   "language": "python",
   "name": "python2"
  },
  "language_info": {
   "codemirror_mode": {
    "name": "ipython",
    "version": 2
   },
   "file_extension": ".py",
   "mimetype": "text/x-python",
   "name": "python",
   "nbconvert_exporter": "python",
   "pygments_lexer": "ipython2",
   "version": "2.7.13"
  }
 },
 "nbformat": 4,
 "nbformat_minor": 2
}
